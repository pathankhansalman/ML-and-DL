{
 "cells": [
  {
   "cell_type": "markdown",
   "id": "1084f7c6-0063-4329-8653-1bd5ccd71996",
   "metadata": {},
   "source": [
    "## Deep ensembles based training implementation\n",
    "\n",
    "Implementing the methodology outlined in https://arxiv.org/pdf/1612.01474, except for the adversarial training. To modify to adversarial training, add gaussian noise to the training samples. Credit to the work goes completely to the authors and other parties mentioned in the paper, as per the paper."
   ]
  },
  {
   "cell_type": "markdown",
   "id": "ab8b83bc-2a3d-4b97-bf4e-3f176b4d1e8e",
   "metadata": {},
   "source": [
    "### Defining model and loss function"
   ]
  },
  {
   "cell_type": "code",
   "execution_count": 91,
   "id": "a634228e-cd14-430f-8b33-edee2c8849a9",
   "metadata": {},
   "outputs": [],
   "source": [
    "import torch\n",
    "import torch.nn as nn\n",
    "import torch.optim as optim\n",
    "import numpy as np\n",
    "from torch.utils.data import DataLoader, TensorDataset\n",
    "from functools import reduce\n",
    "\n",
    "\n",
    "def _deep_ens_loss_(x, y):\n",
    "    return torch.mean(torch.log(x[:, 1]**2)/2 + (y - x[:, 0])**2/(2*x[:, 1]**2))\n",
    "\n",
    "# Define the neural network model\n",
    "class SimpleNN(nn.Module):\n",
    "    def __init__(self, input_size, hidden_size, output_size):\n",
    "        super(SimpleNN, self).__init__()\n",
    "        # Define layers\n",
    "        self.hidden = nn.Linear(input_size, hidden_size)\n",
    "        self.output = nn.Linear(hidden_size, output_size)\n",
    "    \n",
    "    def forward(self, x):\n",
    "        # Apply ReLU activation to hidden layer\n",
    "        x = torch.relu(self.hidden(x))\n",
    "        # Apply output layer (no activation here, often softmax is applied externally if needed)\n",
    "        x = self.output(x)\n",
    "        return x\n"
   ]
  },
  {
   "cell_type": "markdown",
   "id": "f8c41a8b-6939-4fd1-a59d-d1cf42ca9be4",
   "metadata": {},
   "source": [
    "### Training"
   ]
  },
  {
   "cell_type": "code",
   "execution_count": null,
   "id": "10d626c9-b91f-4cdd-a4fb-0dcdba076395",
   "metadata": {},
   "outputs": [],
   "source": [
    "# Hyperparameters\n",
    "input_size = 10     # Number of input features\n",
    "hidden_size = 5     # Number of neurons in the hidden layer\n",
    "output_size = 2     # Number of output neurons (for a binary classification task)\n",
    "num_epochs = 20     # Number of training epochs\n",
    "batch_size = 128     # Batch size for training\n",
    "learning_rate = 0.0001  # Learning rate for the optimizer\n",
    "num_ens = 10  # Number of ensembles\n",
    "\n",
    "# Define a loss function and optimizer\n",
    "criterion = _deep_ens_loss_\n",
    "optimizer = optim.Adam(model.parameters(), lr=learning_rate)  # Use SGD optimizer\n",
    "\n",
    "# Create a TensorDataset and DataLoader\n",
    "num_samples = 10000\n",
    "X = torch.randn(num_samples, input_size)  # Randomly generated input features\n",
    "y = torch.randn(num_samples,)  # Randomly generated binary labels (0 or 1)\n",
    "dataset = TensorDataset(X, y)\n",
    "data_loader = DataLoader(dataset, batch_size=batch_size, shuffle=True)\n",
    "\n",
    "models = []\n",
    "for i in range(num_ens):\n",
    "    # Instantiate the model\n",
    "    model = SimpleNN(input_size, hidden_size, output_size)\n",
    "    for epoch in range(num_epochs):\n",
    "        model.train()  # Set the model to training mode\n",
    "        running_loss = 0.0\n",
    "        for inputs, labels in data_loader:\n",
    "            optimizer.zero_grad()  # Zero the parameter gradients\n",
    "            outputs = model(inputs)  # Forward pass\n",
    "            loss = criterion(outputs, labels)  # Compute loss\n",
    "            loss.backward()  # Backward pass\n",
    "            optimizer.step()  # Update weights\n",
    "            running_loss += loss.item()\n",
    "        avg_loss = running_loss / len(data_loader)\n",
    "        print(f'Epoch [{epoch+1}/{num_epochs}], Loss: {avg_loss:.4f}')\n",
    "    models.append(model)"
   ]
  },
  {
   "cell_type": "markdown",
   "id": "19cf07b8-c5da-4db5-8ad3-800c8b43d4b6",
   "metadata": {},
   "source": [
    "### Inference"
   ]
  },
  {
   "cell_type": "code",
   "execution_count": 121,
   "id": "9045c714-cef1-4087-b377-1d8987121fe1",
   "metadata": {},
   "outputs": [],
   "source": [
    "# Create a TensorDataset and DataLoader\n",
    "test_num_samples = 3000\n",
    "X_test = torch.randn(test_num_samples, input_size)  # Randomly generated input features\n",
    "y_test = torch.randn(test_num_samples,)   # Randomly generated binary labels (0 or 1)\n",
    "test_dataset = TensorDataset(X_test, y_test)\n",
    "test_data_loader = DataLoader(test_dataset, batch_size=len(test_dataset), shuffle=False)\n",
    "for test_inputs, _ in test_data_loader:\n",
    "    with torch.no_grad():  # Disable gradient calculation for evaluation\n",
    "        test_outputs = [model(test_inputs) for model in models]\n",
    "test_means = reduce(lambda x, y: torch.add(x, y), [output[:, 0] for output in test_outputs])/num_ens\n",
    "test_var = reduce(lambda x, y: torch.add(x, y),\n",
    "                  [torch.add(torch.pow(output[:, 0], 2), torch.pow(output[:, 1], 2))\n",
    "                   for output in test_outputs])/num_ens - torch.pow(test_means, 2)"
   ]
  },
  {
   "cell_type": "markdown",
   "id": "725039d0-28c3-45c5-b8cc-7b6bcb66630d",
   "metadata": {},
   "source": [
    "test_means has the mean and test_var has the variance for gaussian distribution of prediction"
   ]
  }
 ],
 "metadata": {
  "kernelspec": {
   "display_name": "Python 3 (ipykernel)",
   "language": "python",
   "name": "python3"
  },
  "language_info": {
   "codemirror_mode": {
    "name": "ipython",
    "version": 3
   },
   "file_extension": ".py",
   "mimetype": "text/x-python",
   "name": "python",
   "nbconvert_exporter": "python",
   "pygments_lexer": "ipython3",
   "version": "3.11.7"
  }
 },
 "nbformat": 4,
 "nbformat_minor": 5
}
